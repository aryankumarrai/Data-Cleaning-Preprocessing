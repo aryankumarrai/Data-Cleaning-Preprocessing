{
  "nbformat": 4,
  "nbformat_minor": 0,
  "metadata": {
    "colab": {
      "provenance": []
    },
    "kernelspec": {
      "name": "python3",
      "display_name": "Python 3"
    },
    "language_info": {
      "name": "python"
    }
  },
  "cells": [
    {
      "cell_type": "code",
      "execution_count": 1,
      "metadata": {
        "id": "ABi_O4r6o0fe"
      },
      "outputs": [],
      "source": [
        "import pandas as pd\n",
        "import numpy as np\n",
        "import matplotlib.pyplot as plt\n",
        "import seaborn as sns"
      ]
    },
    {
      "cell_type": "code",
      "source": [
        "# Load the dataset\n",
        "df = pd.read_csv('Titanic-Dataset.csv')"
      ],
      "metadata": {
        "id": "DEVkfIA3p706"
      },
      "execution_count": 2,
      "outputs": []
    },
    {
      "cell_type": "code",
      "source": [
        "# Display the first 5 rows\n",
        "print(\"First 5 rows of the dataset:\")\n",
        "print(df.head())"
      ],
      "metadata": {
        "colab": {
          "base_uri": "https://localhost:8080/"
        },
        "id": "lotROin_p93q",
        "outputId": "b66b1163-4f3d-4555-e51d-9a30b3014d84"
      },
      "execution_count": 3,
      "outputs": [
        {
          "output_type": "stream",
          "name": "stdout",
          "text": [
            "First 5 rows of the dataset:\n",
            "   PassengerId  Survived  Pclass  \\\n",
            "0            1         0       3   \n",
            "1            2         1       1   \n",
            "2            3         1       3   \n",
            "3            4         1       1   \n",
            "4            5         0       3   \n",
            "\n",
            "                                                Name     Sex   Age  SibSp  \\\n",
            "0                            Braund, Mr. Owen Harris    male  22.0      1   \n",
            "1  Cumings, Mrs. John Bradley (Florence Briggs Th...  female  38.0      1   \n",
            "2                             Heikkinen, Miss. Laina  female  26.0      0   \n",
            "3       Futrelle, Mrs. Jacques Heath (Lily May Peel)  female  35.0      1   \n",
            "4                           Allen, Mr. William Henry    male  35.0      0   \n",
            "\n",
            "   Parch            Ticket     Fare Cabin Embarked  \n",
            "0      0         A/5 21171   7.2500   NaN        S  \n",
            "1      0          PC 17599  71.2833   C85        C  \n",
            "2      0  STON/O2. 3101282   7.9250   NaN        S  \n",
            "3      0            113803  53.1000  C123        S  \n",
            "4      0            373450   8.0500   NaN        S  \n"
          ]
        }
      ]
    },
    {
      "cell_type": "code",
      "source": [
        "# Get a summary of the dataset\n",
        "print(\"\\nDataset Info:\")\n",
        "df.info()"
      ],
      "metadata": {
        "colab": {
          "base_uri": "https://localhost:8080/"
        },
        "id": "TuL-RwwFqAWd",
        "outputId": "857b0e05-5b81-4a7d-d130-2df69991e164"
      },
      "execution_count": 4,
      "outputs": [
        {
          "output_type": "stream",
          "name": "stdout",
          "text": [
            "\n",
            "Dataset Info:\n",
            "<class 'pandas.core.frame.DataFrame'>\n",
            "RangeIndex: 891 entries, 0 to 890\n",
            "Data columns (total 12 columns):\n",
            " #   Column       Non-Null Count  Dtype  \n",
            "---  ------       --------------  -----  \n",
            " 0   PassengerId  891 non-null    int64  \n",
            " 1   Survived     891 non-null    int64  \n",
            " 2   Pclass       891 non-null    int64  \n",
            " 3   Name         891 non-null    object \n",
            " 4   Sex          891 non-null    object \n",
            " 5   Age          714 non-null    float64\n",
            " 6   SibSp        891 non-null    int64  \n",
            " 7   Parch        891 non-null    int64  \n",
            " 8   Ticket       891 non-null    object \n",
            " 9   Fare         891 non-null    float64\n",
            " 10  Cabin        204 non-null    object \n",
            " 11  Embarked     889 non-null    object \n",
            "dtypes: float64(2), int64(5), object(5)\n",
            "memory usage: 83.7+ KB\n"
          ]
        }
      ]
    },
    {
      "cell_type": "code",
      "source": [
        "# Check for missing values\n",
        "print(\"\\nMissing values in each column:\")\n",
        "print(df.isnull().sum())"
      ],
      "metadata": {
        "colab": {
          "base_uri": "https://localhost:8080/"
        },
        "id": "VjS-e-phqCfk",
        "outputId": "86d0e909-891c-4cea-8a93-8d9c83deed59"
      },
      "execution_count": 5,
      "outputs": [
        {
          "output_type": "stream",
          "name": "stdout",
          "text": [
            "\n",
            "Missing values in each column:\n",
            "PassengerId      0\n",
            "Survived         0\n",
            "Pclass           0\n",
            "Name             0\n",
            "Sex              0\n",
            "Age            177\n",
            "SibSp            0\n",
            "Parch            0\n",
            "Ticket           0\n",
            "Fare             0\n",
            "Cabin          687\n",
            "Embarked         2\n",
            "dtype: int64\n"
          ]
        }
      ]
    },
    {
      "cell_type": "code",
      "source": [
        "# Handle missing values for 'Age' by filling with the median\n",
        "df['Age'] = df['Age'].fillna(df['Age'].median())\n",
        "\n",
        "# Handle missing values for 'Embarked' by filling with the mode\n",
        "df['Embarked'] = df['Embarked'].fillna(df['Embarked'].mode()[0])"
      ],
      "metadata": {
        "id": "xNS1MZvGqzxF"
      },
      "execution_count": 6,
      "outputs": []
    },
    {
      "cell_type": "code",
      "source": [
        "# Drop the 'Cabin' column because it has too many missing values\n",
        "df.drop('Cabin', axis=1, inplace=True)\n",
        "\n",
        "# Verify that there are no more missing values\n",
        "print(\"Missing values after handling:\")\n",
        "print(df.isnull().sum())"
      ],
      "metadata": {
        "colab": {
          "base_uri": "https://localhost:8080/"
        },
        "id": "CQqgwJ4Dq0qi",
        "outputId": "270541d7-43e8-406c-c07d-6ea7fc97c109"
      },
      "execution_count": 7,
      "outputs": [
        {
          "output_type": "stream",
          "name": "stdout",
          "text": [
            "Missing values after handling:\n",
            "PassengerId    0\n",
            "Survived       0\n",
            "Pclass         0\n",
            "Name           0\n",
            "Sex            0\n",
            "Age            0\n",
            "SibSp          0\n",
            "Parch          0\n",
            "Ticket         0\n",
            "Fare           0\n",
            "Embarked       0\n",
            "dtype: int64\n"
          ]
        }
      ]
    },
    {
      "cell_type": "code",
      "source": [
        "# Drop unnecessary columns\n",
        "df.drop(['PassengerId', 'Name', 'Ticket'], axis=1, inplace=True)\n",
        "\n",
        "# Convert categorical columns ('Sex', 'Embarked') into dummy/indicator variables\n",
        "df = pd.get_dummies(df, columns=['Sex', 'Embarked'], drop_first=True)"
      ],
      "metadata": {
        "id": "x26qCkghq20r"
      },
      "execution_count": 8,
      "outputs": []
    },
    {
      "cell_type": "code",
      "source": [
        "# Display the first 5 rows of the updated dataframe\n",
        "print(\"Dataframe after encoding categorical features:\")\n",
        "print(df.head())"
      ],
      "metadata": {
        "colab": {
          "base_uri": "https://localhost:8080/"
        },
        "id": "61nrZ-e6q5LE",
        "outputId": "02ff9a0b-6ab1-4ef6-caa1-c0f84006edf5"
      },
      "execution_count": 9,
      "outputs": [
        {
          "output_type": "stream",
          "name": "stdout",
          "text": [
            "Dataframe after encoding categorical features:\n",
            "   Survived  Pclass   Age  SibSp  Parch     Fare  Sex_male  Embarked_Q  \\\n",
            "0         0       3  22.0      1      0   7.2500      True       False   \n",
            "1         1       1  38.0      1      0  71.2833     False       False   \n",
            "2         1       3  26.0      0      0   7.9250     False       False   \n",
            "3         1       1  35.0      1      0  53.1000     False       False   \n",
            "4         0       3  35.0      0      0   8.0500      True       False   \n",
            "\n",
            "   Embarked_S  \n",
            "0        True  \n",
            "1       False  \n",
            "2        True  \n",
            "3        True  \n",
            "4        True  \n"
          ]
        }
      ]
    },
    {
      "cell_type": "code",
      "source": [
        "from sklearn.preprocessing import StandardScaler\n",
        "\n",
        "scaler = StandardScaler()\n",
        "columns_to_scale = ['Age', 'Fare']\n",
        "df[columns_to_scale] = scaler.fit_transform(df[columns_to_scale])"
      ],
      "metadata": {
        "id": "6K8ShiCtq60a"
      },
      "execution_count": 10,
      "outputs": []
    },
    {
      "cell_type": "code",
      "source": [
        "# Display the first 5 rows with scaled features\n",
        "print(\"Dataframe after standardizing numerical features:\")\n",
        "print(df.head())"
      ],
      "metadata": {
        "colab": {
          "base_uri": "https://localhost:8080/"
        },
        "id": "a_zxu9lfq9hP",
        "outputId": "bffd0a7c-0f38-446d-d580-839889d4e2d0"
      },
      "execution_count": 11,
      "outputs": [
        {
          "output_type": "stream",
          "name": "stdout",
          "text": [
            "Dataframe after standardizing numerical features:\n",
            "   Survived  Pclass       Age  SibSp  Parch      Fare  Sex_male  Embarked_Q  \\\n",
            "0         0       3 -0.565736      1      0 -0.502445      True       False   \n",
            "1         1       1  0.663861      1      0  0.786845     False       False   \n",
            "2         1       3 -0.258337      0      0 -0.488854     False       False   \n",
            "3         1       1  0.433312      1      0  0.420730     False       False   \n",
            "4         0       3  0.433312      0      0 -0.486337      True       False   \n",
            "\n",
            "   Embarked_S  \n",
            "0        True  \n",
            "1       False  \n",
            "2        True  \n",
            "3        True  \n",
            "4        True  \n"
          ]
        }
      ]
    },
    {
      "cell_type": "code",
      "source": [
        "# Set up the matplotlib figure\n",
        "plt.figure(figsize=(12, 5))"
      ],
      "metadata": {
        "colab": {
          "base_uri": "https://localhost:8080/",
          "height": 52
        },
        "id": "vNWL7EiNrCc5",
        "outputId": "a8f281ff-29c7-482f-9aaa-f8404b14ff18"
      },
      "execution_count": 12,
      "outputs": [
        {
          "output_type": "execute_result",
          "data": {
            "text/plain": [
              "<Figure size 1200x500 with 0 Axes>"
            ]
          },
          "metadata": {},
          "execution_count": 12
        },
        {
          "output_type": "display_data",
          "data": {
            "text/plain": [
              "<Figure size 1200x500 with 0 Axes>"
            ]
          },
          "metadata": {}
        }
      ]
    },
    {
      "cell_type": "code",
      "source": [
        "# Boxplot for 'Age'\n",
        "plt.subplot(1, 2, 1)\n",
        "sns.boxplot(y=df['Age'])\n",
        "plt.title('Boxplot of Age')"
      ],
      "metadata": {
        "colab": {
          "base_uri": "https://localhost:8080/",
          "height": 450
        },
        "id": "E8rrSR6orDGO",
        "outputId": "37e7f97d-383b-44c4-e7e3-9a2019febee3"
      },
      "execution_count": 13,
      "outputs": [
        {
          "output_type": "execute_result",
          "data": {
            "text/plain": [
              "Text(0.5, 1.0, 'Boxplot of Age')"
            ]
          },
          "metadata": {},
          "execution_count": 13
        },
        {
          "output_type": "display_data",
          "data": {
            "text/plain": [
              "<Figure size 640x480 with 1 Axes>"
            ],
            "image/png": "[encoded data removed]"
          },
          "metadata": {}
        }
      ]
    },
    {
      "cell_type": "code",
      "source": [
        "# Boxplot for 'Fare'\n",
        "plt.subplot(1, 2, 2)\n",
        "sns.boxplot(y=df['Fare'])\n",
        "plt.title('Boxplot of Fare')\n",
        "plt.tight_layout()\n",
        "plt.show()"
      ],
      "metadata": {
        "colab": {
          "base_uri": "https://localhost:8080/",
          "height": 487
        },
        "id": "v2jTQy4CrDMe",
        "outputId": "53a90bd2-36e7-4010-996c-0597678c64d6"
      },
      "execution_count": 14,
      "outputs": [
        {
          "output_type": "display_data",
          "data": {
            "text/plain": [
              "<Figure size 640x480 with 1 Axes>"
            ],
            "image/png": "[encoded data removed]"
          },
          "metadata": {}
        }
      ]
    },
    {
      "cell_type": "code",
      "source": [
        "# Calculate IQR for 'Age' and 'Fare'\n",
        "Q1_age = df['Age'].quantile(0.25)\n",
        "Q3_age = df['Age'].quantile(0.75)\n",
        "IQR_age = Q3_age - Q1_age\n",
        "\n",
        "Q1_fare = df['Fare'].quantile(0.25)\n",
        "Q3_fare = df['Fare'].quantile(0.75)\n",
        "IQR_fare = Q3_fare - Q1_fare"
      ],
      "metadata": {
        "id": "bF1RLTSJrJtC"
      },
      "execution_count": 15,
      "outputs": []
    },
    {
      "cell_type": "code",
      "source": [
        "# Define outlier bounds\n",
        "age_lower_bound = Q1_age - 1.5 * IQR_age\n",
        "age_upper_bound = Q3_age + 1.5 * IQR_age\n",
        "\n",
        "fare_lower_bound = Q1_fare - 1.5 * IQR_fare\n",
        "fare_upper_bound = Q3_fare + 1.5 * IQR_fare"
      ],
      "metadata": {
        "id": "ZmzC7xmqrM2U"
      },
      "execution_count": 16,
      "outputs": []
    },
    {
      "cell_type": "code",
      "source": [
        "# Remove outliers\n",
        "df_no_outliers = df[\n",
        "    (df['Age'] >= age_lower_bound) & (df['Age'] <= age_upper_bound) &\n",
        "    (df['Fare'] >= fare_lower_bound) & (df['Fare'] <= fare_upper_bound)\n",
        "]\n",
        "\n",
        "print(f\"Original dataframe shape: {df.shape}\")\n",
        "print(f\"Dataframe shape after removing outliers: {df_no_outliers.shape}\")"
      ],
      "metadata": {
        "colab": {
          "base_uri": "https://localhost:8080/"
        },
        "id": "uIEwM7YArOTV",
        "outputId": "5c41fb5c-d233-49df-deb6-fc3b8e8a8fac"
      },
      "execution_count": 17,
      "outputs": [
        {
          "output_type": "stream",
          "name": "stdout",
          "text": [
            "Original dataframe shape: (891, 9)\n",
            "Dataframe shape after removing outliers: (721, 9)\n"
          ]
        }
      ]
    },
    {
      "cell_type": "code",
      "source": [
        "# Visualize the data again after removing outliers\n",
        "plt.figure(figsize=(12, 5))"
      ],
      "metadata": {
        "colab": {
          "base_uri": "https://localhost:8080/",
          "height": 52
        },
        "id": "FgxWCE7arQKg",
        "outputId": "4d0c1d32-79a3-45de-c4bf-1434bcd2b0ac"
      },
      "execution_count": 18,
      "outputs": [
        {
          "output_type": "execute_result",
          "data": {
            "text/plain": [
              "<Figure size 1200x500 with 0 Axes>"
            ]
          },
          "metadata": {},
          "execution_count": 18
        },
        {
          "output_type": "display_data",
          "data": {
            "text/plain": [
              "<Figure size 1200x500 with 0 Axes>"
            ]
          },
          "metadata": {}
        }
      ]
    },
    {
      "cell_type": "code",
      "source": [
        "# Boxplot for 'Age'\n",
        "plt.subplot(1, 2, 1)\n",
        "sns.boxplot(y=df_no_outliers['Age'])\n",
        "plt.title('Boxplot of Age (No Outliers)')"
      ],
      "metadata": {
        "colab": {
          "base_uri": "https://localhost:8080/",
          "height": 450
        },
        "id": "acsLh3ZOrRxL",
        "outputId": "73440590-8415-45ae-a29c-218a9d053622"
      },
      "execution_count": 19,
      "outputs": [
        {
          "output_type": "execute_result",
          "data": {
            "text/plain": [
              "Text(0.5, 1.0, 'Boxplot of Age (No Outliers)')"
            ]
          },
          "metadata": {},
          "execution_count": 19
        },
        {
          "output_type": "display_data",
          "data": {
            "text/plain": [
              "<Figure size 640x480 with 1 Axes>"
            ],
            "image/png": "[encoded data removed]"
          },
          "metadata": {}
        }
      ]
    },
    {
      "cell_type": "code",
      "source": [
        "# Boxplot for 'Fare'\n",
        "plt.subplot(1, 2, 2)\n",
        "sns.boxplot(y=df_no_outliers['Fare'])\n",
        "plt.title('Boxplot of Fare (No Outliers)')\n",
        "plt.tight_layout()\n",
        "plt.show()"
      ],
      "metadata": {
        "colab": {
          "base_uri": "https://localhost:8080/",
          "height": 487
        },
        "id": "7WjdlRdirTVn",
        "outputId": "e69023d0-0cc1-48d6-bc31-a7474de74fb0"
      },
      "execution_count": 20,
      "outputs": [
        {
          "output_type": "display_data",
          "data": {
            "text/plain": [
              "<Figure size 640x480 with 1 Axes>"
            ],
            "image/png": "[encoded data removed]"
          },
          "metadata": {}
        }
      ]
    }
  ]
}